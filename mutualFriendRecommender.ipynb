{
 "cells": [
  {
   "cell_type": "code",
   "execution_count": 0,
   "metadata": {
    "application/vnd.databricks.v1+cell": {
     "cellMetadata": {
      "byteLimit": 2048000,
      "rowLimit": 10000
     },
     "inputWidgets": {},
     "nuid": "fe283b93-d0b9-4cbc-9a7a-8610de8eab48",
     "showTitle": false,
     "tableResultSettingsMap": {},
     "title": ""
    }
   },
   "outputs": [],
   "source": [
    "from random import sample"
   ]
  },
  {
   "cell_type": "code",
   "execution_count": 0,
   "metadata": {
    "application/vnd.databricks.v1+cell": {
     "cellMetadata": {
      "byteLimit": 2048000,
      "rowLimit": 10000
     },
     "inputWidgets": {},
     "nuid": "0bdfc535-e4f0-4f4a-bea4-78e6a0a8bfed",
     "showTitle": false,
     "tableResultSettingsMap": {},
     "title": ""
    }
   },
   "outputs": [],
   "source": [
    "data = sc.textFile(\"dbfs:/FileStore/FriendDataset.txt\")"
   ]
  },
  {
   "cell_type": "code",
   "execution_count": 0,
   "metadata": {
    "application/vnd.databricks.v1+cell": {
     "cellMetadata": {
      "byteLimit": 2048000,
      "rowLimit": 10000
     },
     "inputWidgets": {},
     "nuid": "a20d93e3-2669-4a9b-bf9b-0a73783e3d48",
     "showTitle": false,
     "tableResultSettingsMap": {},
     "title": ""
    }
   },
   "outputs": [],
   "source": [
    "def parse(line):\n",
    "    parts = line.split('\\t')\n",
    "    user = parts[0]\n",
    "    friends = parts[1].split(',') if len(parts) > 1 else []\n",
    "    return user, friends"
   ]
  },
  {
   "cell_type": "code",
   "execution_count": 0,
   "metadata": {
    "application/vnd.databricks.v1+cell": {
     "cellMetadata": {
      "byteLimit": 2048000,
      "rowLimit": 10000
     },
     "inputWidgets": {},
     "nuid": "4f6bb205-fe90-4d1d-81d6-37be782e6679",
     "showTitle": false,
     "tableResultSettingsMap": {},
     "title": ""
    }
   },
   "outputs": [],
   "source": [
    "parsed = data.map(parse)"
   ]
  },
  {
   "cell_type": "code",
   "execution_count": 0,
   "metadata": {
    "application/vnd.databricks.v1+cell": {
     "cellMetadata": {
      "byteLimit": 2048000,
      "rowLimit": 10000
     },
     "inputWidgets": {},
     "nuid": "adc6672c-ce96-4cd7-8dd6-ba7662ff949d",
     "showTitle": false,
     "tableResultSettingsMap": {},
     "title": ""
    }
   },
   "outputs": [],
   "source": [
    "def generate_pairs(user, friends):\n",
    "    for friend in friends:\n",
    "        yield (user, friend)\n",
    "    for i in range(len(friends)):\n",
    "        for j in range(i+1, len(friends)):\n",
    "            yield ((friends[i], friends[j]), user)\n",
    "            yield ((friends[j], friends[i]), user)"
   ]
  },
  {
   "cell_type": "code",
   "execution_count": 0,
   "metadata": {
    "application/vnd.databricks.v1+cell": {
     "cellMetadata": {
      "byteLimit": 2048000,
      "rowLimit": 10000
     },
     "inputWidgets": {},
     "nuid": "368c4f34-d9de-42a2-a0f8-3a6fdca3e42e",
     "showTitle": false,
     "tableResultSettingsMap": {},
     "title": ""
    }
   },
   "outputs": [],
   "source": [
    "pairs = parsed.flatMap(lambda x: generate_pairs(x[0], x[1]))"
   ]
  },
  {
   "cell_type": "code",
   "execution_count": 0,
   "metadata": {
    "application/vnd.databricks.v1+cell": {
     "cellMetadata": {
      "byteLimit": 2048000,
      "rowLimit": 10000
     },
     "inputWidgets": {},
     "nuid": "0160ef69-ed62-4d9a-8eea-3f5badf2acb3",
     "showTitle": false,
     "tableResultSettingsMap": {},
     "title": ""
    }
   },
   "outputs": [],
   "source": [
    "mutuals = pairs.filter(lambda x: isinstance(x[0], tuple)) \\\n",
    "               .groupByKey() \\\n",
    "               .mapValues(lambda x: list(set(x)))"
   ]
  },
  {
   "cell_type": "code",
   "execution_count": 0,
   "metadata": {
    "application/vnd.databricks.v1+cell": {
     "cellMetadata": {
      "byteLimit": 2048000,
      "rowLimit": 10000
     },
     "inputWidgets": {},
     "nuid": "0919b42c-ae0a-4533-8195-9ccb9a614aa5",
     "showTitle": false,
     "tableResultSettingsMap": {},
     "title": ""
    }
   },
   "outputs": [],
   "source": [
    "mutual_counts = mutuals.map(lambda x: (x[0][0], (x[0][1], len(x[1]))))"
   ]
  },
  {
   "cell_type": "code",
   "execution_count": 0,
   "metadata": {
    "application/vnd.databricks.v1+cell": {
     "cellMetadata": {
      "byteLimit": 2048000,
      "rowLimit": 10000
     },
     "inputWidgets": {},
     "nuid": "9691e9f7-2ec1-43e1-8dd7-b8582a39b98c",
     "showTitle": false,
     "tableResultSettingsMap": {},
     "title": ""
    }
   },
   "outputs": [],
   "source": [
    "user_friends = parsed.mapValues(set)"
   ]
  },
  {
   "cell_type": "code",
   "execution_count": 0,
   "metadata": {
    "application/vnd.databricks.v1+cell": {
     "cellMetadata": {
      "byteLimit": 2048000,
      "rowLimit": 10000
     },
     "inputWidgets": {},
     "nuid": "3f9c6771-2e7c-45d2-a27d-5bbc33173167",
     "showTitle": false,
     "tableResultSettingsMap": {},
     "title": ""
    }
   },
   "outputs": [],
   "source": [
    "def filter_existing_recs(user, recs, friends):\n",
    "    return [(user, (other, count)) for other, count in recs if other not in friends and user != other]"
   ]
  },
  {
   "cell_type": "code",
   "execution_count": 0,
   "metadata": {
    "application/vnd.databricks.v1+cell": {
     "cellMetadata": {
      "byteLimit": 2048000,
      "rowLimit": 10000
     },
     "inputWidgets": {},
     "nuid": "03cd4ca5-89e0-4248-a811-f6d0afcad6d2",
     "showTitle": false,
     "tableResultSettingsMap": {},
     "title": ""
    }
   },
   "outputs": [],
   "source": [
    "recs_grouped = mutual_counts.groupByKey().mapValues(list)\n",
    "joined = recs_grouped.join(user_friends)\n",
    "filtered_recs = joined.flatMap(lambda x: filter_existing_recs(x[0], x[1][0], x[1][1]))"
   ]
  },
  {
   "cell_type": "code",
   "execution_count": 0,
   "metadata": {
    "application/vnd.databricks.v1+cell": {
     "cellMetadata": {
      "byteLimit": 2048000,
      "rowLimit": 10000
     },
     "inputWidgets": {},
     "nuid": "11963c6f-302d-4131-831b-37c80f5a92be",
     "showTitle": false,
     "tableResultSettingsMap": {},
     "title": ""
    }
   },
   "outputs": [],
   "source": [
    "top10_recs = filtered_recs.groupByKey().mapValues(lambda x: sorted(x, key=lambda y: -y[1])[:10])"
   ]
  },
  {
   "cell_type": "code",
   "execution_count": 0,
   "metadata": {
    "application/vnd.databricks.v1+cell": {
     "cellMetadata": {
      "byteLimit": 2048000,
      "rowLimit": 10000
     },
     "inputWidgets": {},
     "nuid": "9e100b6b-69bd-40af-af6b-2553423dc89a",
     "showTitle": false,
     "tableResultSettingsMap": {},
     "title": ""
    }
   },
   "outputs": [
    {
     "output_type": "stream",
     "name": "stdout",
     "output_type": "stream",
     "text": [
      "30577\t30585,30561,30595,30565,30548,30571,7246,30556,30542,30551\n27942\t27940,27974,27920,27934,27927,27970,27944,27966,27972,47235\n15717\t15114,15736,15113,15712,15707,4518,15755,15765,22945,15721\n42738\t42703,42720,42749,42706,21078,12333,31982,42709,42727,31989\n757\t36559,697,778,11359,7437,24219,14442,93,29637,825\n32108\t24951,8695,46505,20161,20156,11380,5957,7406,20154,44570\n11587\t2103,11562,11544,11588,11557,28112,11543,42206,4101,2050\n32826\t32749,32837,32745,6958,32835,8862,34226,8742,32848,17504\n44587\t44581,44576,44572,44577,44582,44579,44588,2409,9997,44573\n959\t966,957,1023,990,975,971,44359,1013,995,33023\n"
     ]
    }
   ],
   "source": [
    "results = top10_recs.takeSample(False, 10)\n",
    "for user, recs in results:\n",
    "    print(f\"{user}\\t{','.join([r[0] for r in recs])}\")"
   ]
  }
 ],
 "metadata": {
  "application/vnd.databricks.v1+notebook": {
   "computePreferences": null,
   "dashboards": [],
   "environmentMetadata": {
    "base_environment": "",
    "environment_version": "1"
   },
   "inputWidgetPreferences": null,
   "language": "python",
   "notebookMetadata": {
    "pythonIndentUnit": 4
   },
   "notebookName": "Assignment2_Problem1",
   "widgets": {}
  }
 },
 "nbformat": 4,
 "nbformat_minor": 0
}